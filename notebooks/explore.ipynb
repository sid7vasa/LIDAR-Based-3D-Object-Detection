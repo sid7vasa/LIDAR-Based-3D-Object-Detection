{
 "cells": [
  {
   "cell_type": "code",
   "execution_count": 5,
   "metadata": {},
   "outputs": [],
   "source": [
    "import os\n",
    "import yaml\n",
    "import sys\n",
    "sys.path.append(\"/home/sid/workspace/LIDAR-Based-3D-Object-Detection/\")\n",
    "from data.dataset import LyftDataset"
   ]
  },
  {
   "cell_type": "code",
   "execution_count": 7,
   "metadata": {},
   "outputs": [
    {
     "name": "stdout",
     "output_type": "stream",
     "text": [
      "Loading data from:/mnt/e/LFS/3d-object-detection-for-autonomous-vehicles/\n",
      "9 category,\n",
      "18 attribute,\n",
      "4 visibility,\n",
      "18421 instance,\n",
      "10 sensor,\n",
      "148 calibrated_sensor,\n",
      "177789 ego_pose,\n",
      "180 log,\n",
      "180 scene,\n",
      "22680 sample,\n",
      "189504 sample_data,\n",
      "638179 sample_annotation,\n",
      "1 map,\n",
      "Done loading in 21.0 seconds.\n",
      "======\n",
      "Reverse indexing ...\n",
      "Done reverse indexing in 1.4 seconds.\n",
      "======\n"
     ]
    }
   ],
   "source": [
    "with open(\"../parameters/train.yaml\", \"r\") as stream:\n",
    "    parameters = yaml.safe_load(stream)\n",
    "print(f\"Loading data from:{parameters['DATA_PATH']}\")\n",
    "DATA_PATH = parameters['DATA_PATH']\n",
    "lyft_dataset = LyftDataset(data_path=DATA_PATH, json_path=DATA_PATH+'train_data')"
   ]
  },
  {
   "cell_type": "code",
   "execution_count": null,
   "metadata": {},
   "outputs": [],
   "source": []
  }
 ],
 "metadata": {
  "kernelspec": {
   "display_name": "Python 3.8.13 ('objd')",
   "language": "python",
   "name": "python3"
  },
  "language_info": {
   "codemirror_mode": {
    "name": "ipython",
    "version": 3
   },
   "file_extension": ".py",
   "mimetype": "text/x-python",
   "name": "python",
   "nbconvert_exporter": "python",
   "pygments_lexer": "ipython3",
   "version": "3.8.13 (default, Oct 21 2022, 23:50:54) \n[GCC 11.2.0]"
  },
  "orig_nbformat": 4,
  "vscode": {
   "interpreter": {
    "hash": "378e0334fce5b6d2ef0f5348066ae47f76cc56c6a902a19bcd06c056bd76d626"
   }
  }
 },
 "nbformat": 4,
 "nbformat_minor": 2
}
